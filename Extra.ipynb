{
 "cells": [
  {
   "cell_type": "markdown",
   "id": "3e8e851b-6b40-4ed9-a61a-5984fee7b0b9",
   "metadata": {},
   "source": [
    "## 🎯 Ejercicio 1 – ¡Cazadores de Números Impares!\n",
    "\n",
    "Un grupo de cazadores de números está buscando todos los **números impares** escondidos en una lista. Tu misión es construir una **función llamada `contar_impares`** que reciba una lista de números enteros y devuelva **cuántos de ellos son impares**.\n",
    "\n",
    "> Un número es impar si al dividirlo entre 2, el resto es distinto de 0 (`numero % 2 != 0`).\n",
    "\n",
    "### 🧪 Ejemplo de uso:\n",
    "\n",
    "```python\n",
    "contar_impares([2, 3, 5, 8, 9])\n",
    "# Resultado esperado: 3\n",
    "\n"
   ]
  },
  {
   "cell_type": "code",
   "execution_count": 3,
   "id": "9a5eb24a-8968-4f79-b557-e67c363c806f",
   "metadata": {},
   "outputs": [
    {
     "name": "stdout",
     "output_type": "stream",
     "text": [
      "Números en la lista: [2, 3, 5, 8, 9]\n",
      "Impares encontrados: 3\n"
     ]
    }
   ],
   "source": []
  },
  {
   "cell_type": "markdown",
   "id": "4acb6284-3ebb-419d-aab5-ce0d6a0a759d",
   "metadata": {},
   "source": [
    "## 🧙‍♂️ Ejercicio 2 – Tabla de Multiplicar Mágica\n",
    "\n",
    "Has sido admitido en la **Academia de Magia Numérica**, donde los aprendices deben dominar el hechizo de las **tablas de multiplicar**.\n",
    "\n",
    "Tu tarea es crear una función llamada `tabla_multiplicar(numero)` que reciba un número y **muestre su tabla de multiplicar del 1 al 10** con `print()`.\n",
    "\n",
    "> Usa un bucle `for` para recorrer del 1 al 10 y mostrar el resultado de multiplicar ese número por cada valor.\n",
    "\n",
    "### 🧪 Ejemplo de uso:\n",
    "\n",
    "```python\n",
    "tabla_multiplicar(3)\n",
    "# Resultado:\n",
    "# 3 x 1 = 3\n",
    "# 3 x 2 = 6\n",
    "# ...\n",
    "# 3 x 10 = 30\n"
   ]
  },
  {
   "cell_type": "code",
   "execution_count": 4,
   "id": "3d7c1873-1307-447c-8632-29552ed489de",
   "metadata": {},
   "outputs": [
    {
     "name": "stdout",
     "output_type": "stream",
     "text": [
      "🔢 Tabla de multiplicar del 3\n",
      "3 x 1 = 3\n",
      "3 x 2 = 6\n",
      "3 x 3 = 9\n",
      "3 x 4 = 12\n",
      "3 x 5 = 15\n",
      "3 x 6 = 18\n",
      "3 x 7 = 21\n",
      "3 x 8 = 24\n",
      "3 x 9 = 27\n",
      "3 x 10 = 30\n"
     ]
    }
   ],
   "source": []
  },
  {
   "cell_type": "markdown",
   "id": "7f78ec06-8dce-4ddf-9284-75f08d8f39bd",
   "metadata": {},
   "source": [
    "## 🕵️‍♀️ Ejercicio 3 – Detectives de Vocales\n",
    "\n",
    "En la **Agencia de Investigación Lingüística**, un grupo de detectives debe encontrar los nombres que contienen una **vocal específica**.\n",
    "\n",
    "Tu misión es crear una función `filtrar_por_vocal(lista_nombres, vocal)` que reciba una **lista de nombres** y una **vocal**, y devuelva **una nueva lista** con los nombres que contienen esa vocal (en mayúscula o minúscula).\n",
    "\n",
    "> Pista: puedes usar `in` para comprobar si una letra está en una palabra, y `lower()` para evitar problemas con mayúsculas/minúsculas.\n",
    "\n",
    "### 🧪 Ejemplo de uso:\n",
    "\n",
    "```python\n",
    "filtrar_por_vocal([\"Ana\", \"Luis\", \"Sonia\", \"Pedro\", \"Eli\"], \"i\")\n",
    "# Resultado esperado: ['Luis', 'Sonia', 'Eli']\n"
   ]
  },
  {
   "cell_type": "code",
   "execution_count": 6,
   "id": "32d88646-4f5d-478b-a23a-8012df9eb30d",
   "metadata": {},
   "outputs": [
    {
     "name": "stdout",
     "output_type": "stream",
     "text": [
      "Nombres con la vocal 'i': ['Luis', 'Sonia', 'Eli']\n"
     ]
    }
   ],
   "source": []
  },
  {
   "cell_type": "markdown",
   "id": "d00899e1-04a2-41e5-9000-624fbe75390e",
   "metadata": {},
   "source": [
    "## 🔄 Ejercicio 4 – Darle la vuelta a una lista\n",
    "\n",
    "Tu amigo ha escrito una lista, ¡pero al revés! Necesita tu ayuda para volver a ponerla en el orden correcto.\n",
    "\n",
    "Crea una función `invertir_lista(lista)` que reciba una lista y **devuelva una nueva lista con los elementos en orden inverso**.\n",
    "\n",
    "No puedes usar `.reverse()` ni `[::-1]`, ¡hazlo con un bucle!\n",
    "\n",
    "### 🧪 Ejemplo de uso:\n",
    "\n",
    "```python\n",
    "invertir_lista([\"manzana\", \"banana\", \"uva\"])\n",
    "# Resultado esperado: [\"uva\", \"banana\", \"manzana\"]\n"
   ]
  },
  {
   "cell_type": "code",
   "execution_count": 7,
   "id": "e76a9e83-f6b2-4977-bc30-8ee94d5c929b",
   "metadata": {},
   "outputs": [
    {
     "name": "stdout",
     "output_type": "stream",
     "text": [
      "Lista original: ['manzana', 'banana', 'uva']\n",
      "Lista invertida: ['uva', 'banana', 'manzana']\n"
     ]
    }
   ],
   "source": []
  },
  {
   "cell_type": "markdown",
   "id": "db5e8333-6ceb-4b0e-842c-ea68eed4124b",
   "metadata": {},
   "source": [
    "## EJERCICIOS DIFÍCILES"
   ]
  },
  {
   "cell_type": "markdown",
   "id": "6994485d-bc30-4298-8454-cb9f1082edb3",
   "metadata": {},
   "source": [
    "## 🕵️‍♂️ Ejercicio 5 – Cazador de Números Primos\n",
    "\n",
    "Eres parte de una agencia secreta que solo trabaja con **números primos**. Te han dado una lista con números mezclados y tu tarea es construir una función que encuentre **cuáles de ellos son realmente primos**.\n",
    "\n",
    "Crea una función llamada `filtrar_primos(lista)` que reciba una lista de números enteros y devuelva **una nueva lista que contenga solo los primos**.\n",
    "\n",
    "> Un número primo es aquel que **solo se puede dividir entre 1 y él mismo** (mayores que 1).\n",
    "\n",
    "### 🧪 Ejemplo de uso:\n",
    "\n",
    "```python\n",
    "filtrar_primos([2, 4, 5, 6, 7, 9, 11])\n",
    "# Resultado esperado: [2, 5, 7, 11]\n"
   ]
  },
  {
   "cell_type": "code",
   "execution_count": 12,
   "id": "a7517283-9837-4c08-ae0c-922bc95740b9",
   "metadata": {},
   "outputs": [
    {
     "name": "stdout",
     "output_type": "stream",
     "text": [
      "Primos encontrados: [2, 3, 5, 11, 17]\n"
     ]
    }
   ],
   "source": []
  },
  {
   "cell_type": "markdown",
   "id": "cfe4be45-1a48-41e5-8e81-a91f7dfbc97e",
   "metadata": {},
   "source": [
    "## 🤖 Ejercicio 6 – Elimina los clones\n",
    "\n",
    "¡El laboratorio ha sido invadido por clones digitales! 👾\n",
    "\n",
    "Tu misión es crear una función llamada `quitar_duplicados(lista)` que reciba una lista con elementos **repetidos** y devuelva **una nueva lista sin duplicados**, manteniendo el **orden original**.\n",
    "\n",
    "> No uses `set()`, porque no mantiene el orden. Hazlo paso a paso, como un verdadero programador.\n",
    "\n",
    "### 🧪 Ejemplo de uso:\n",
    "\n",
    "```python\n",
    "quitar_duplicados([1, 2, 2, 3, 1, 4, 3])\n",
    "# Resultado esperado: [1, 2, 3, 4]\n"
   ]
  },
  {
   "cell_type": "code",
   "execution_count": 14,
   "id": "85cbfe6b-a8a8-4d9a-a175-2c31fdaa1238",
   "metadata": {},
   "outputs": [
    {
     "name": "stdout",
     "output_type": "stream",
     "text": [
      "Lista original: [1, 2, 2, 3, 1, 4, 3, 5, 5, 6]\n",
      "Lista sin duplicados: [1, 2, 3, 4, 5, 6]\n"
     ]
    }
   ],
   "source": []
  },
  {
   "cell_type": "markdown",
   "id": "1974369b-11cf-4f3d-a26c-7b295bec5cb6",
   "metadata": {},
   "source": [
    "## Ejercicio Nivel PRO del PYTHON"
   ]
  },
  {
   "cell_type": "markdown",
   "id": "315c5838-ad79-4d4c-8f54-cae9537587bb",
   "metadata": {},
   "source": [
    "## 🧠 Ejercicio Pro – La Terminal del Guardián de Datos (Reto Final)\n",
    "\n",
    "📜 **Contexto:**\n",
    "En una ciudad subterránea digital conocida como **Bitstream**, un antiguo sistema de inteligencia artificial llamado **El Guardián** protege los secretos del conocimiento perdido.\n",
    "\n",
    "Pero El Guardián está fallando: su módulo de análisis de datos se ha corrompido. Tú eres un programador de élite, y tu misión es **restaurar el núcleo lógico** del sistema.\n",
    "\n",
    "---\n",
    "\n",
    "### 🕹️ Tu misión\n",
    "\n",
    "Crea una función `analizar_secuencia(lista)` que haga lo siguiente:\n",
    "\n",
    "1. Calcule la **suma total** de todos los números.\n",
    "2. Devuelva una **lista con los números mayores que el promedio** (el nivel medio de energía).\n",
    "3. Devuelva el **número más frecuente** (la señal que más se repite).\n",
    "4. Devuelva una **lista con los números únicos**, es decir, que aparecen solo una vez (los pulsos raros no repetidos).\n",
    "\n",
    "> ⚠️ No puedes usar diccionarios ni funciones mágicas como `collections` o `statistics`. Este es un desafío puro de lógica.\n",
    "\n",
    "### 🧪 Ejemplo de uso:\n",
    "\n",
    "```python\n",
    "resultado = analizar_secuencia([4, 2, 5, 2, 8, 2, 9, 4, 1])\n",
    "print(\"Suma:\", resultado[0])\n",
    "print(\"Mayores que el promedio:\", resultado[1])\n",
    "print(\"Más frecuente:\", resultado[2])\n",
    "print(\"Únicos:\", resultado[3])\n",
    "```\n",
    "\n",
    "### 🎯 Resultado esperado:\n",
    "\n",
    "```\n",
    "Suma: 37  \n",
    "Mayores que el promedio: [5, 8, 9]  \n",
    "Más frecuente: 2  \n",
    "Únicos: [5, 8, 9, 1]\n",
    "```\n",
    "\n",
    "---\n",
    "\n",
    "🏆 Si logras completar este reto, El Guardián se reactivará… y tú habrás demostrado estar listo para el **nivel avanzado de Python**.\n",
    "\n",
    "PISTA: puedes usar len() para saber la longitud de la lista"
   ]
  },
  {
   "cell_type": "code",
   "execution_count": 15,
   "id": "ee903ad0-405d-42c4-bd37-d1a3a47c740e",
   "metadata": {},
   "outputs": [
    {
     "name": "stdout",
     "output_type": "stream",
     "text": [
      "Suma: 37\n",
      "Mayores que el promedio: [5, 8, 9]\n",
      "Más frecuente: 2\n",
      "Únicos: [5, 8, 9, 1]\n"
     ]
    }
   ],
   "source": []
  }
 ],
 "metadata": {
  "kernelspec": {
   "display_name": "Python 3 (ipykernel)",
   "language": "python",
   "name": "python3"
  },
  "language_info": {
   "codemirror_mode": {
    "name": "ipython",
    "version": 3
   },
   "file_extension": ".py",
   "mimetype": "text/x-python",
   "name": "python",
   "nbconvert_exporter": "python",
   "pygments_lexer": "ipython3",
   "version": "3.10.16"
  }
 },
 "nbformat": 4,
 "nbformat_minor": 5
}
