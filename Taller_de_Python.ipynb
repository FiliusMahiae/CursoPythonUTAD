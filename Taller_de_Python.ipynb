{
  "nbformat": 4,
  "nbformat_minor": 0,
  "metadata": {
    "colab": {
      "provenance": []
    },
    "kernelspec": {
      "name": "python3",
      "display_name": "Python 3"
    },
    "language_info": {
      "name": "python"
    }
  },
  "cells": [
    {
      "cell_type": "code",
      "execution_count": null,
      "metadata": {
        "colab": {
          "base_uri": "https://localhost:8080/"
        },
        "id": "36vdi2rBFbBu",
        "outputId": "3f9ed766-1e5a-42a2-ac4e-c29572653f10"
      },
      "outputs": [
        {
          "output_type": "stream",
          "name": "stdout",
          "text": [
            "Hola mundo\n"
          ]
        }
      ],
      "source": [
        "print(\"Hola mundo\")"
      ]
    },
    {
      "cell_type": "markdown",
      "source": [
        "# Variables"
      ],
      "metadata": {
        "id": "rVeAsd7yG8j3"
      }
    },
    {
      "cell_type": "code",
      "source": [
        "# Variables enteras\n",
        "\n",
        "entero = 1\n",
        "\n",
        "cadena = \"Pepe\"\n",
        "\n",
        "print(str(entero)+\" \"+cadena)\n",
        "\n"
      ],
      "metadata": {
        "colab": {
          "base_uri": "https://localhost:8080/"
        },
        "id": "C0zRgnlNHGd2",
        "outputId": "4a0f0e48-865b-4df8-c859-9fb471915dd5"
      },
      "execution_count": null,
      "outputs": [
        {
          "output_type": "stream",
          "name": "stdout",
          "text": [
            "1 Pepe\n"
          ]
        }
      ]
    },
    {
      "cell_type": "markdown",
      "source": [
        "Ejercicio 1 :\n",
        "\n",
        "Crear un ejemplo de presentacion:\n",
        "\n",
        "\"Mi nombre es: Alejandro\"\n",
        "\"Tengo 23 años\"\n",
        "\n",
        "crear una variable nombre = \"Alejandro\" y edad = 23"
      ],
      "metadata": {
        "id": "Mvl9-FOSJd8P"
      }
    },
    {
      "cell_type": "code",
      "source": [
        "\n",
        "nombre = \"Alejandro\"\n",
        "\n",
        "edad = 23\n",
        "\n",
        "edad = 24\n",
        "\n",
        "frase = \"Mi nombre es: \"+nombre+\"\\nTengo \"+str(edad)+\" años\"\n",
        "\n",
        "print(frase)\n",
        "\n"
      ],
      "metadata": {
        "colab": {
          "base_uri": "https://localhost:8080/"
        },
        "id": "Sms4RAB6J8E5",
        "outputId": "59517b07-3cb6-47c1-e785-c9a50ac2134b"
      },
      "execution_count": null,
      "outputs": [
        {
          "output_type": "stream",
          "name": "stdout",
          "text": [
            "Mi nombre es: Alejandro\n",
            "Tengo 24 años\n"
          ]
        }
      ]
    },
    {
      "cell_type": "markdown",
      "source": [
        "Operadores"
      ],
      "metadata": {
        "id": "AFwQTaa4MvmK"
      }
    },
    {
      "cell_type": "code",
      "source": [
        "\n",
        "numero1 = 1\n",
        "numero2 = 5\n",
        "\n",
        "boleana = numero1>numero2\n",
        "\n",
        "suma = numero1+numero2\n",
        "\n",
        "print(boleana)\n",
        "\n",
        "print(suma)\n"
      ],
      "metadata": {
        "colab": {
          "base_uri": "https://localhost:8080/"
        },
        "id": "eT_9ZuZXMvOc",
        "outputId": "3cf416ff-73fd-41b3-c4a5-636921e00efc"
      },
      "execution_count": null,
      "outputs": [
        {
          "output_type": "stream",
          "name": "stdout",
          "text": [
            "False\n",
            "32\n"
          ]
        }
      ]
    },
    {
      "cell_type": "markdown",
      "source": [
        "Input"
      ],
      "metadata": {
        "id": "9vlVkSIRNrli"
      }
    },
    {
      "cell_type": "code",
      "source": [
        "nombre = input(\"Dime tu nombre:\")\n",
        "print(nombre)"
      ],
      "metadata": {
        "colab": {
          "base_uri": "https://localhost:8080/"
        },
        "id": "oytfv6gzNstJ",
        "outputId": "24bed0d0-8d98-4a71-b194-35806df71d80"
      },
      "execution_count": null,
      "outputs": [
        {
          "output_type": "stream",
          "name": "stdout",
          "text": [
            "Dime tu nombre:Alejandro\n",
            "Alejandro\n"
          ]
        }
      ]
    },
    {
      "cell_type": "markdown",
      "source": [
        "Ejercicio 2:\n",
        "\n",
        "Pedir el nombre y la edad al usuario y mostralo por la consola.\n",
        "\n",
        "\"Dime tu nombre:\" Alejandro\n",
        "\"Dime tu edad:\" 23\n",
        "\n",
        "\"Tu nombre es: Alejandro\"\n",
        "\"Y tienes 23 años\""
      ],
      "metadata": {
        "id": "qC5f1jNDOxmg"
      }
    },
    {
      "cell_type": "code",
      "source": [
        "nombre = input(\"Dime tu nombre:\")\n",
        "edad = input(\"Dime tu edad:\")\n",
        "\n",
        "print(\"Te llamas \"+nombre+\"\\nY tienes \"+edad+\" años\")"
      ],
      "metadata": {
        "colab": {
          "base_uri": "https://localhost:8080/"
        },
        "id": "1JiSVs1EPGT3",
        "outputId": "57d6616a-abdb-458d-fb62-5d294aac5cf1"
      },
      "execution_count": null,
      "outputs": [
        {
          "output_type": "stream",
          "name": "stdout",
          "text": [
            "Dime tu nombre:Alejandro\n",
            "Dime tu edad:23\n",
            "Te llamas Alejandro\n",
            "Y tienes 23 años\n"
          ]
        }
      ]
    },
    {
      "cell_type": "markdown",
      "source": [
        "Lista"
      ],
      "metadata": {
        "id": "eQHwXTigQwVl"
      }
    },
    {
      "cell_type": "code",
      "source": [
        "lista = [\"Marco\",\"Silvia\",\"Alejandro\",\"Juan\"] #lista 4 nombres\n",
        "\n",
        "print(lista[0])\n",
        "\n",
        "\n",
        "lista2 = [1,\"Silvia\",False,\"Juan\"] #lista con un entero(int),cadena(str),boleano(bool) y cadena(str)\n",
        "\n",
        "lista2[1] = 0\n",
        "\n",
        "print(lista2)\n",
        "\n",
        "lista2.append(\"Pepe\")\n",
        "\n",
        "print(lista2)\n",
        "\n",
        "lista2.pop()\n",
        "\n",
        "print(lista2)\n",
        "\n",
        "lista2.remove(0)\n",
        "\n",
        "print(lista2)\n",
        "\n",
        "lista2[0] = \"Marco\"\n",
        "\n",
        "print(lista2)"
      ],
      "metadata": {
        "colab": {
          "base_uri": "https://localhost:8080/"
        },
        "id": "b54-6kyPQx5x",
        "outputId": "b72786d1-c3a6-4b68-8666-29e74e8d6f69"
      },
      "execution_count": null,
      "outputs": [
        {
          "output_type": "stream",
          "name": "stdout",
          "text": [
            "Marco\n",
            "[1, 0, False, 'Juan']\n",
            "[1, 0, False, 'Juan', 'Pepe']\n",
            "[1, 0, False, 'Juan']\n",
            "[1, False, 'Juan']\n",
            "['Marco', False, 'Juan']\n"
          ]
        }
      ]
    },
    {
      "cell_type": "markdown",
      "source": [
        "Ejercio Among us:\n",
        "\n",
        "crear una lista vacia: list(), []\n",
        "añadir los jugadores: importante meter dos impostores\n",
        "\n",
        "[\"Azul\",\"Rojo\",\"Impostor\",\"Verde\",\"Impostor\",\"Morado\"]\n",
        "\n",
        "Expulsar o eliminar a los impostores\n",
        "\n",
        "[\"Azul\",\"Rojo\",\"Verde\",\"Morado\"]"
      ],
      "metadata": {
        "id": "uW4iaN2WTMYx"
      }
    },
    {
      "cell_type": "code",
      "source": [
        "lista = list()\n",
        "\n",
        "lista.append(\"Rojo\")\n",
        "lista.append(\"Morado\")\n",
        "lista.append(\"Azul\")\n",
        "lista.append(\"Impostor\")\n",
        "lista.append(\"Verde\")\n",
        "lista.append(\"Impostor\")\n",
        "\n",
        "print(lista)\n",
        "\n",
        "lista.pop()\n",
        "\n",
        "print(lista)\n",
        "\n",
        "lista.remove(\"Impostor\")\n",
        "\n",
        "print(lista)"
      ],
      "metadata": {
        "colab": {
          "base_uri": "https://localhost:8080/"
        },
        "id": "m8LViCrJTl3V",
        "outputId": "21801adf-67bb-485e-e75f-a0eaff2e472c"
      },
      "execution_count": null,
      "outputs": [
        {
          "output_type": "stream",
          "name": "stdout",
          "text": [
            "['Rojo', 'Morado', 'Azul', 'Impostor', 'Verde', 'Impostor']\n",
            "['Rojo', 'Morado', 'Azul', 'Impostor', 'Verde']\n",
            "['Rojo', 'Morado', 'Azul', 'Verde']\n"
          ]
        }
      ]
    },
    {
      "cell_type": "markdown",
      "source": [
        "Condicionales if"
      ],
      "metadata": {
        "id": "SYO9u8adXa2u"
      }
    },
    {
      "cell_type": "code",
      "source": [
        "a = input(\"dime un numero:\")\n",
        "b = input(\"dime otro numero:\")\n",
        "\n",
        "if a > b:\n",
        "  print(a+\" es mayor que \"+b)\n",
        "elif a == b:\n",
        "  print(a+\" es igual que \"+b)\n",
        "else:\n",
        "  print(a+\" es mayor que \"+b)\n"
      ],
      "metadata": {
        "colab": {
          "base_uri": "https://localhost:8080/"
        },
        "id": "nZdglwijXcbv",
        "outputId": "fba50016-a69c-45c3-8a1f-14603a32ac83"
      },
      "execution_count": null,
      "outputs": [
        {
          "output_type": "stream",
          "name": "stdout",
          "text": [
            "dime un numero:1\n",
            "dime otro numero:1\n",
            "1 es igual que 1\n"
          ]
        }
      ]
    },
    {
      "cell_type": "markdown",
      "source": [
        "Ejercicio Discoteca:\n",
        "\n",
        "Tenemos que pedir a los cliente la edad para dejarles pasar:\n",
        "\n",
        "Si tiene 18 o más años le permitmos pasar\n",
        "\n",
        "Si no le denegamos el acceso"
      ],
      "metadata": {
        "id": "HOcK-JHIY_bn"
      }
    },
    {
      "cell_type": "code",
      "source": [
        "edad = input(\"Dime tu edad:\")\n",
        "\n",
        "if int(edad) >= 18:\n",
        "  print(\"Disfrute de la fiesta\")\n",
        "else:\n",
        "  print(\"No puede pasar\")"
      ],
      "metadata": {
        "colab": {
          "base_uri": "https://localhost:8080/"
        },
        "id": "dPFuuYP-Zbbe",
        "outputId": "15628b55-7660-4f27-9594-fe32133a82a9"
      },
      "execution_count": null,
      "outputs": [
        {
          "output_type": "stream",
          "name": "stdout",
          "text": [
            "Dime tu edad:17\n",
            "No puede pasar\n"
          ]
        }
      ]
    },
    {
      "cell_type": "markdown",
      "source": [
        "While"
      ],
      "metadata": {
        "id": "f2Ervm_CbPPg"
      }
    },
    {
      "cell_type": "code",
      "source": [
        "numero = 1\n",
        "\n",
        "while numero <= 10:\n",
        "  print(numero)\n",
        "  numero += 1 # numero = numero + 1\n",
        "\n",
        "numero = 1\n",
        "\n",
        "while numero <= 10:\n",
        "  if numero%2 != 0:\n",
        "    print(numero)\n",
        "  numero += 1 # numero = numero + 1\n",
        "\n",
        "\n"
      ],
      "metadata": {
        "colab": {
          "base_uri": "https://localhost:8080/"
        },
        "id": "MH9nCopibQof",
        "outputId": "6dd3eb42-194e-438e-d661-8200b4209fde"
      },
      "execution_count": null,
      "outputs": [
        {
          "output_type": "stream",
          "name": "stdout",
          "text": [
            "1\n",
            "2\n",
            "3\n",
            "4\n",
            "5\n",
            "6\n",
            "7\n",
            "8\n",
            "9\n",
            "10\n",
            "1\n",
            "3\n",
            "5\n",
            "7\n",
            "9\n"
          ]
        }
      ]
    },
    {
      "cell_type": "markdown",
      "source": [
        "Ejercio Sumatorio:\n",
        "\n",
        "sumar los números del 1 al 100\n",
        "\n",
        "si se consigue: sumar solo los impares"
      ],
      "metadata": {
        "id": "rYAVCc3xcQYk"
      }
    },
    {
      "cell_type": "code",
      "source": [
        "numero = 1\n",
        "sumatorio = 0\n",
        "\n",
        "while numero <= 100:\n",
        "  sumatorio += numero # sumatorio = sumatorio + numero\n",
        "  numero += 1 # numero = numero + 1\n",
        "\n",
        "print(sumatorio)"
      ],
      "metadata": {
        "colab": {
          "base_uri": "https://localhost:8080/"
        },
        "id": "dUNwlMnAcauT",
        "outputId": "0f814c71-8477-4991-ba59-52bc3e5cb041"
      },
      "execution_count": null,
      "outputs": [
        {
          "output_type": "stream",
          "name": "stdout",
          "text": [
            "5050\n"
          ]
        }
      ]
    },
    {
      "cell_type": "markdown",
      "source": [
        "For"
      ],
      "metadata": {
        "id": "DOtFNPXGea_w"
      }
    },
    {
      "cell_type": "code",
      "source": [
        "sumatorio = 0\n",
        "for numero in range(1,101):\n",
        "  sumatorio += numero # sumatorio = sumatorio + numero\n",
        "\n",
        "print(sumatorio)\n",
        "\n",
        "sumatorio = 0\n",
        "for numero in range(1,101,2):\n",
        "  sumatorio += numero # sumatorio = sumatorio + numero\n",
        "\n",
        "print(sumatorio)\n",
        "\n",
        "for numero in range(1,101,2):\n",
        "  print(numero)"
      ],
      "metadata": {
        "colab": {
          "base_uri": "https://localhost:8080/"
        },
        "id": "jMnUAz9-eaPg",
        "outputId": "8a5aac48-b650-4f1f-9f07-98723a584d4d"
      },
      "execution_count": null,
      "outputs": [
        {
          "output_type": "stream",
          "name": "stdout",
          "text": [
            "5050\n",
            "2500\n",
            "1\n",
            "3\n",
            "5\n",
            "7\n",
            "9\n",
            "11\n",
            "13\n",
            "15\n",
            "17\n",
            "19\n",
            "21\n",
            "23\n",
            "25\n",
            "27\n",
            "29\n",
            "31\n",
            "33\n",
            "35\n",
            "37\n",
            "39\n",
            "41\n",
            "43\n",
            "45\n",
            "47\n",
            "49\n",
            "51\n",
            "53\n",
            "55\n",
            "57\n",
            "59\n",
            "61\n",
            "63\n",
            "65\n",
            "67\n",
            "69\n",
            "71\n",
            "73\n",
            "75\n",
            "77\n",
            "79\n",
            "81\n",
            "83\n",
            "85\n",
            "87\n",
            "89\n",
            "91\n",
            "93\n",
            "95\n",
            "97\n",
            "99\n"
          ]
        }
      ]
    }
  ]
}